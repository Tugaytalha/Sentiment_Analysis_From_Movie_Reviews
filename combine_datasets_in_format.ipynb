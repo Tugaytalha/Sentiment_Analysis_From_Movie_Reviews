{
 "cells": [
  {
   "cell_type": "markdown",
   "source": [
    "# Data Merge\n",
    "#### In this notebook we will merge the datasets to produce a single dataset that will be used for the training of the models. "
   ],
   "metadata": {
    "collapsed": false
   },
   "id": "8f58363289d47bac"
  },
  {
   "cell_type": "markdown",
   "source": [
    "## Importing Libraries"
   ],
   "metadata": {
    "collapsed": false
   },
   "id": "a7288c11b2dd3210"
  },
  {
   "cell_type": "code",
   "execution_count": 114,
   "outputs": [],
   "source": [
    "import pandas as pd\n",
    "import numpy as np\n",
    "import os"
   ],
   "metadata": {
    "collapsed": false,
    "ExecuteTime": {
     "end_time": "2024-06-12T23:32:54.833858200Z",
     "start_time": "2024-06-12T23:32:54.719387100Z"
    }
   },
   "id": "d421f6097b6ba4c4"
  },
  {
   "cell_type": "markdown",
   "source": [
    "## Load Datasets"
   ],
   "metadata": {
    "collapsed": false
   },
   "id": "dc1da56da9723565"
  },
  {
   "cell_type": "code",
   "execution_count": 115,
   "outputs": [],
   "source": [
    "# Load goemotion datasets\n",
    "path = 'data/before_processing/'\n",
    "goemotions_1 = pd.read_csv(path + 'goemotions_1.csv')\n",
    "goemotions_2 = pd.read_csv(path + 'goemotions_2.csv')\n",
    "goemotions_3 = pd.read_csv(path + 'goemotions_3.csv')\n",
    "\n",
    "# Load tweet_emotions dataset\n",
    "tweet_emotions = pd.read_csv(path + 'tweet_emotions.csv')"
   ],
   "metadata": {
    "collapsed": false,
    "ExecuteTime": {
     "end_time": "2024-06-12T23:32:55.828925400Z",
     "start_time": "2024-06-12T23:32:54.838857700Z"
    }
   },
   "id": "cc72ffc802ac0ac8"
  },
  {
   "cell_type": "markdown",
   "source": [
    "## Tweet Emotions Dataset Preprocessing\n",
    "In order to combine Data Sets, we must pre-process the data and put them in the same format."
   ],
   "metadata": {
    "collapsed": false
   },
   "id": "19babdcd866ad9b8"
  },
  {
   "cell_type": "code",
   "execution_count": 116,
   "outputs": [
    {
     "data": {
      "text/plain": "     tweet_id   sentiment                                            content\n0  1956967341       empty  @tiffanylue i know  i was listenin to bad habi...\n1  1956967666     sadness  Layin n bed with a headache  ughhhh...waitin o...\n2  1956967696     sadness                Funeral ceremony...gloomy friday...\n3  1956967789  enthusiasm               wants to hang out with friends SOON!\n4  1956968416     neutral  @dannycastillo We want to trade with someone w...",
      "text/html": "<div>\n<style scoped>\n    .dataframe tbody tr th:only-of-type {\n        vertical-align: middle;\n    }\n\n    .dataframe tbody tr th {\n        vertical-align: top;\n    }\n\n    .dataframe thead th {\n        text-align: right;\n    }\n</style>\n<table border=\"1\" class=\"dataframe\">\n  <thead>\n    <tr style=\"text-align: right;\">\n      <th></th>\n      <th>tweet_id</th>\n      <th>sentiment</th>\n      <th>content</th>\n    </tr>\n  </thead>\n  <tbody>\n    <tr>\n      <th>0</th>\n      <td>1956967341</td>\n      <td>empty</td>\n      <td>@tiffanylue i know  i was listenin to bad habi...</td>\n    </tr>\n    <tr>\n      <th>1</th>\n      <td>1956967666</td>\n      <td>sadness</td>\n      <td>Layin n bed with a headache  ughhhh...waitin o...</td>\n    </tr>\n    <tr>\n      <th>2</th>\n      <td>1956967696</td>\n      <td>sadness</td>\n      <td>Funeral ceremony...gloomy friday...</td>\n    </tr>\n    <tr>\n      <th>3</th>\n      <td>1956967789</td>\n      <td>enthusiasm</td>\n      <td>wants to hang out with friends SOON!</td>\n    </tr>\n    <tr>\n      <th>4</th>\n      <td>1956968416</td>\n      <td>neutral</td>\n      <td>@dannycastillo We want to trade with someone w...</td>\n    </tr>\n  </tbody>\n</table>\n</div>"
     },
     "execution_count": 116,
     "metadata": {},
     "output_type": "execute_result"
    }
   ],
   "source": [
    "# Look up to the dataset\n",
    "tweet_emotions.head(5)"
   ],
   "metadata": {
    "collapsed": false,
    "ExecuteTime": {
     "end_time": "2024-06-12T23:32:55.845922500Z",
     "start_time": "2024-06-12T23:32:55.831922500Z"
    }
   },
   "id": "8f4892a6bf0d00e2"
  },
  {
   "cell_type": "code",
   "execution_count": 117,
   "outputs": [
    {
     "data": {
      "text/plain": "tweet_id     0\nsentiment    0\ncontent      0\ndtype: int64"
     },
     "execution_count": 117,
     "metadata": {},
     "output_type": "execute_result"
    }
   ],
   "source": [
    "# Check for nan values \n",
    "tweet_emotions.isnull().sum()\n",
    "# There are no nan values in the dataset then we can proceed to the next step"
   ],
   "metadata": {
    "collapsed": false,
    "ExecuteTime": {
     "end_time": "2024-06-12T23:32:55.880443700Z",
     "start_time": "2024-06-12T23:32:55.846922100Z"
    }
   },
   "id": "bf3f656d06366aa3"
  },
  {
   "cell_type": "code",
   "execution_count": 118,
   "outputs": [],
   "source": [
    "# Collumns for tweet_emotions:\n",
    "# tweet_id,sentiment,content\n",
    "# Collumns for goemotions:\n",
    "# text,id,author,subreddit,link_id,parent_id,created_utc,rater_id,example_very_unclear,admiration,amusement,anger,annoyance,approval,caring,confusion,curiosity,desire,disappointment,disapproval,disgust,embarrassment,excitement,fear,gratitude,grief,joy,love,nervousness,optimism,pride,realization,relief,remorse,sadness,surprise,neutral\n",
    "\n",
    "# Apply one-hot encoding to the sentiment column of tweet_emotions\n",
    "tweet_emotions = pd.get_dummies(tweet_emotions, columns=['sentiment'], prefix='', prefix_sep='', dtype=int)\n",
    "\n",
    "# Rename the content column to match the goemotions dataset\n",
    "tweet_emotions.rename(columns={'content':'text'}, inplace=True)\n",
    "\n",
    "# Drop the tweet_id column because it is not necessary\n",
    "tweet_emotions.drop(columns=['tweet_id'], inplace=True)"
   ],
   "metadata": {
    "collapsed": false,
    "ExecuteTime": {
     "end_time": "2024-06-12T23:32:55.947443Z",
     "start_time": "2024-06-12T23:32:55.862929500Z"
    }
   },
   "id": "8ded01549e5e5ae0"
  },
  {
   "cell_type": "code",
   "execution_count": 119,
   "outputs": [
    {
     "data": {
      "text/plain": "                                                text  anger  boredom  empty  \\\n0  @tiffanylue i know  i was listenin to bad habi...      0        0      1   \n1  Layin n bed with a headache  ughhhh...waitin o...      0        0      0   \n2                Funeral ceremony...gloomy friday...      0        0      0   \n3               wants to hang out with friends SOON!      0        0      0   \n4  @dannycastillo We want to trade with someone w...      0        0      0   \n\n   enthusiasm  fun  happiness  hate  love  neutral  relief  sadness  surprise  \\\n0           0    0          0     0     0        0       0        0         0   \n1           0    0          0     0     0        0       0        1         0   \n2           0    0          0     0     0        0       0        1         0   \n3           1    0          0     0     0        0       0        0         0   \n4           0    0          0     0     0        1       0        0         0   \n\n   worry  \n0      0  \n1      0  \n2      0  \n3      0  \n4      0  ",
      "text/html": "<div>\n<style scoped>\n    .dataframe tbody tr th:only-of-type {\n        vertical-align: middle;\n    }\n\n    .dataframe tbody tr th {\n        vertical-align: top;\n    }\n\n    .dataframe thead th {\n        text-align: right;\n    }\n</style>\n<table border=\"1\" class=\"dataframe\">\n  <thead>\n    <tr style=\"text-align: right;\">\n      <th></th>\n      <th>text</th>\n      <th>anger</th>\n      <th>boredom</th>\n      <th>empty</th>\n      <th>enthusiasm</th>\n      <th>fun</th>\n      <th>happiness</th>\n      <th>hate</th>\n      <th>love</th>\n      <th>neutral</th>\n      <th>relief</th>\n      <th>sadness</th>\n      <th>surprise</th>\n      <th>worry</th>\n    </tr>\n  </thead>\n  <tbody>\n    <tr>\n      <th>0</th>\n      <td>@tiffanylue i know  i was listenin to bad habi...</td>\n      <td>0</td>\n      <td>0</td>\n      <td>1</td>\n      <td>0</td>\n      <td>0</td>\n      <td>0</td>\n      <td>0</td>\n      <td>0</td>\n      <td>0</td>\n      <td>0</td>\n      <td>0</td>\n      <td>0</td>\n      <td>0</td>\n    </tr>\n    <tr>\n      <th>1</th>\n      <td>Layin n bed with a headache  ughhhh...waitin o...</td>\n      <td>0</td>\n      <td>0</td>\n      <td>0</td>\n      <td>0</td>\n      <td>0</td>\n      <td>0</td>\n      <td>0</td>\n      <td>0</td>\n      <td>0</td>\n      <td>0</td>\n      <td>1</td>\n      <td>0</td>\n      <td>0</td>\n    </tr>\n    <tr>\n      <th>2</th>\n      <td>Funeral ceremony...gloomy friday...</td>\n      <td>0</td>\n      <td>0</td>\n      <td>0</td>\n      <td>0</td>\n      <td>0</td>\n      <td>0</td>\n      <td>0</td>\n      <td>0</td>\n      <td>0</td>\n      <td>0</td>\n      <td>1</td>\n      <td>0</td>\n      <td>0</td>\n    </tr>\n    <tr>\n      <th>3</th>\n      <td>wants to hang out with friends SOON!</td>\n      <td>0</td>\n      <td>0</td>\n      <td>0</td>\n      <td>1</td>\n      <td>0</td>\n      <td>0</td>\n      <td>0</td>\n      <td>0</td>\n      <td>0</td>\n      <td>0</td>\n      <td>0</td>\n      <td>0</td>\n      <td>0</td>\n    </tr>\n    <tr>\n      <th>4</th>\n      <td>@dannycastillo We want to trade with someone w...</td>\n      <td>0</td>\n      <td>0</td>\n      <td>0</td>\n      <td>0</td>\n      <td>0</td>\n      <td>0</td>\n      <td>0</td>\n      <td>0</td>\n      <td>1</td>\n      <td>0</td>\n      <td>0</td>\n      <td>0</td>\n      <td>0</td>\n    </tr>\n  </tbody>\n</table>\n</div>"
     },
     "execution_count": 119,
     "metadata": {},
     "output_type": "execute_result"
    }
   ],
   "source": [
    "# Look up to the processed dataset\n",
    "tweet_emotions.head(5)"
   ],
   "metadata": {
    "collapsed": false,
    "ExecuteTime": {
     "end_time": "2024-06-12T23:32:55.986967100Z",
     "start_time": "2024-06-12T23:32:55.894446600Z"
    }
   },
   "id": "95f33c23fb0d293f"
  },
  {
   "cell_type": "markdown",
   "source": [
    "## Goemotions Dataset Preprocessing"
   ],
   "metadata": {
    "collapsed": false
   },
   "id": "d58c3d64148fbd0c"
  },
  {
   "cell_type": "code",
   "execution_count": 120,
   "outputs": [
    {
     "name": "stdout",
     "output_type": "stream",
     "text": [
      "set()\n"
     ]
    }
   ],
   "source": [
    "# Print the columns that exist in the goemotions2 but not in the goemotions1\n",
    "print(set(goemotions_2.columns) - set(goemotions_1.columns))"
   ],
   "metadata": {
    "collapsed": false,
    "ExecuteTime": {
     "end_time": "2024-06-12T23:32:55.986967100Z",
     "start_time": "2024-06-12T23:32:55.909443700Z"
    }
   },
   "id": "94ca97f351a73c4b"
  },
  {
   "cell_type": "code",
   "execution_count": 121,
   "outputs": [],
   "source": [
    "# Since {'id', 'rater_id', 'link_id', 'author', 'subreddit', 'created_utc', 'parent_id', 'example_very_unclear'} columns are not in geometrics1, \n",
    "# we add these columns as 0 to get rid of null values that will occur after the concatenation.\n",
    "goemotions_1['id'] = 0\n",
    "goemotions_1['rater_id'] = 0\n",
    "goemotions_1['link_id'] = 0\n",
    "goemotions_1['author'] = 0\n",
    "goemotions_1['subreddit'] = 0\n",
    "goemotions_1['created_utc'] = 0\n",
    "goemotions_1['parent_id'] = 0\n",
    "goemotions_1['example_very_unclear'] = 0"
   ],
   "metadata": {
    "collapsed": false,
    "ExecuteTime": {
     "end_time": "2024-06-12T23:32:55.987964400Z",
     "start_time": "2024-06-12T23:32:55.926443200Z"
    }
   },
   "id": "6c283449a9f0e561"
  },
  {
   "cell_type": "code",
   "execution_count": 122,
   "outputs": [],
   "source": [
    "# Concatenate the goemotions datasets\n",
    "goemotions = pd.concat([goemotions_1, goemotions_2, goemotions_3], ignore_index=True)"
   ],
   "metadata": {
    "collapsed": false,
    "ExecuteTime": {
     "end_time": "2024-06-12T23:32:56.026963500Z",
     "start_time": "2024-06-12T23:32:55.940447400Z"
    }
   },
   "id": "ee85da77454760b5"
  },
  {
   "cell_type": "code",
   "execution_count": 123,
   "outputs": [
    {
     "name": "stdout",
     "output_type": "stream",
     "text": [
      "(70000, 37)\n",
      "(70000, 37)\n",
      "(71225, 37)\n",
      "(211225, 37)\n"
     ]
    }
   ],
   "source": [
    "print(goemotions_1.shape)\n",
    "print(goemotions_2.shape)\n",
    "print(goemotions_3.shape)\n",
    "print(goemotions.shape)"
   ],
   "metadata": {
    "collapsed": false,
    "ExecuteTime": {
     "end_time": "2024-06-12T23:32:56.060972200Z",
     "start_time": "2024-06-12T23:32:55.985965600Z"
    }
   },
   "id": "6a3aefe42d8f3173"
  },
  {
   "cell_type": "code",
   "execution_count": 124,
   "outputs": [
    {
     "data": {
      "text/plain": "                                                text id author subreddit  \\\n0                                    That game hurt.  0      0         0   \n1   >sexuality shouldn’t be a grouping category I...  0      0         0   \n2     You do right, if you don't care then fuck 'em!  0      0         0   \n3                                 Man I love reddit.  0      0         0   \n4  [NAME] was nowhere near them, he was by the Fa...  0      0         0   \n\n  link_id parent_id  created_utc  rater_id  example_very_unclear  admiration  \\\n0       0         0          0.0         0                     0           0   \n1       0         0          0.0         0                     0           0   \n2       0         0          0.0         0                     0           0   \n3       0         0          0.0         0                     0           0   \n4       0         0          0.0         0                     0           0   \n\n   ...  love  nervousness  optimism  pride  realization  relief  remorse  \\\n0  ...     0            0         0      0            0       0        0   \n1  ...     0            0         0      0            0       0        0   \n2  ...     0            0         0      0            0       0        0   \n3  ...     1            0         0      0            0       0        0   \n4  ...     0            0         0      0            0       0        0   \n\n   sadness  surprise  neutral  \n0        1         0        0  \n1        0         0        0  \n2        0         0        1  \n3        0         0        0  \n4        0         0        1  \n\n[5 rows x 37 columns]",
      "text/html": "<div>\n<style scoped>\n    .dataframe tbody tr th:only-of-type {\n        vertical-align: middle;\n    }\n\n    .dataframe tbody tr th {\n        vertical-align: top;\n    }\n\n    .dataframe thead th {\n        text-align: right;\n    }\n</style>\n<table border=\"1\" class=\"dataframe\">\n  <thead>\n    <tr style=\"text-align: right;\">\n      <th></th>\n      <th>text</th>\n      <th>id</th>\n      <th>author</th>\n      <th>subreddit</th>\n      <th>link_id</th>\n      <th>parent_id</th>\n      <th>created_utc</th>\n      <th>rater_id</th>\n      <th>example_very_unclear</th>\n      <th>admiration</th>\n      <th>...</th>\n      <th>love</th>\n      <th>nervousness</th>\n      <th>optimism</th>\n      <th>pride</th>\n      <th>realization</th>\n      <th>relief</th>\n      <th>remorse</th>\n      <th>sadness</th>\n      <th>surprise</th>\n      <th>neutral</th>\n    </tr>\n  </thead>\n  <tbody>\n    <tr>\n      <th>0</th>\n      <td>That game hurt.</td>\n      <td>0</td>\n      <td>0</td>\n      <td>0</td>\n      <td>0</td>\n      <td>0</td>\n      <td>0.0</td>\n      <td>0</td>\n      <td>0</td>\n      <td>0</td>\n      <td>...</td>\n      <td>0</td>\n      <td>0</td>\n      <td>0</td>\n      <td>0</td>\n      <td>0</td>\n      <td>0</td>\n      <td>0</td>\n      <td>1</td>\n      <td>0</td>\n      <td>0</td>\n    </tr>\n    <tr>\n      <th>1</th>\n      <td>&gt;sexuality shouldn’t be a grouping category I...</td>\n      <td>0</td>\n      <td>0</td>\n      <td>0</td>\n      <td>0</td>\n      <td>0</td>\n      <td>0.0</td>\n      <td>0</td>\n      <td>0</td>\n      <td>0</td>\n      <td>...</td>\n      <td>0</td>\n      <td>0</td>\n      <td>0</td>\n      <td>0</td>\n      <td>0</td>\n      <td>0</td>\n      <td>0</td>\n      <td>0</td>\n      <td>0</td>\n      <td>0</td>\n    </tr>\n    <tr>\n      <th>2</th>\n      <td>You do right, if you don't care then fuck 'em!</td>\n      <td>0</td>\n      <td>0</td>\n      <td>0</td>\n      <td>0</td>\n      <td>0</td>\n      <td>0.0</td>\n      <td>0</td>\n      <td>0</td>\n      <td>0</td>\n      <td>...</td>\n      <td>0</td>\n      <td>0</td>\n      <td>0</td>\n      <td>0</td>\n      <td>0</td>\n      <td>0</td>\n      <td>0</td>\n      <td>0</td>\n      <td>0</td>\n      <td>1</td>\n    </tr>\n    <tr>\n      <th>3</th>\n      <td>Man I love reddit.</td>\n      <td>0</td>\n      <td>0</td>\n      <td>0</td>\n      <td>0</td>\n      <td>0</td>\n      <td>0.0</td>\n      <td>0</td>\n      <td>0</td>\n      <td>0</td>\n      <td>...</td>\n      <td>1</td>\n      <td>0</td>\n      <td>0</td>\n      <td>0</td>\n      <td>0</td>\n      <td>0</td>\n      <td>0</td>\n      <td>0</td>\n      <td>0</td>\n      <td>0</td>\n    </tr>\n    <tr>\n      <th>4</th>\n      <td>[NAME] was nowhere near them, he was by the Fa...</td>\n      <td>0</td>\n      <td>0</td>\n      <td>0</td>\n      <td>0</td>\n      <td>0</td>\n      <td>0.0</td>\n      <td>0</td>\n      <td>0</td>\n      <td>0</td>\n      <td>...</td>\n      <td>0</td>\n      <td>0</td>\n      <td>0</td>\n      <td>0</td>\n      <td>0</td>\n      <td>0</td>\n      <td>0</td>\n      <td>0</td>\n      <td>0</td>\n      <td>1</td>\n    </tr>\n  </tbody>\n</table>\n<p>5 rows × 37 columns</p>\n</div>"
     },
     "execution_count": 124,
     "metadata": {},
     "output_type": "execute_result"
    }
   ],
   "source": [
    "# Look up to the goemotion datasets\n",
    "goemotions.head(5)"
   ],
   "metadata": {
    "collapsed": false,
    "ExecuteTime": {
     "end_time": "2024-06-12T23:32:56.130480600Z",
     "start_time": "2024-06-12T23:32:56.000969400Z"
    }
   },
   "id": "24697d067c2e0dc3"
  },
  {
   "cell_type": "code",
   "execution_count": 125,
   "outputs": [
    {
     "data": {
      "text/plain": "Series([], dtype: int64)"
     },
     "execution_count": 125,
     "metadata": {},
     "output_type": "execute_result"
    }
   ],
   "source": [
    "# Check for nan or null values\n",
    "goemotions.isnull().sum()[goemotions.isnull().sum() > 0]\n",
    "# There are no nan values in the dataset then we can proceed to the next step"
   ],
   "metadata": {
    "collapsed": false,
    "ExecuteTime": {
     "end_time": "2024-06-12T23:32:56.161486100Z",
     "start_time": "2024-06-12T23:32:56.059972800Z"
    }
   },
   "id": "c4342e51784c5ec4"
  },
  {
   "cell_type": "code",
   "execution_count": 126,
   "outputs": [],
   "source": [
    "# Get rid of the examples that are very unclear because they won't help the model\n",
    "goemotions = goemotions[goemotions['example_very_unclear'] == 0]\n",
    "\n",
    "# Drop the columns that are not necessary\n",
    "# id,author,subreddit,link_id,parent_id,created_utc,rater_id,example_very_unclear\n",
    "goemotions.drop(columns=['id', 'author', 'subreddit', 'link_id', 'parent_id', 'created_utc', 'rater_id', 'example_very_unclear'], inplace=True)"
   ],
   "metadata": {
    "collapsed": false,
    "ExecuteTime": {
     "end_time": "2024-06-12T23:32:56.290265900Z",
     "start_time": "2024-06-12T23:32:56.126482700Z"
    }
   },
   "id": "5c3d6e9ee4361cac"
  },
  {
   "cell_type": "markdown",
   "source": [
    "### Check for the emotions that are in one dataset but not in the other"
   ],
   "metadata": {
    "collapsed": false
   },
   "id": "daf95704c839a3c1"
  },
  {
   "cell_type": "code",
   "execution_count": 127,
   "outputs": [
    {
     "name": "stdout",
     "output_type": "stream",
     "text": [
      "{'desire', 'realization', 'annoyance', 'disgust', 'fear', 'disappointment', 'optimism', 'embarrassment', 'confusion', 'amusement', 'grief', 'pride', 'joy', 'remorse', 'admiration', 'nervousness', 'caring', 'gratitude', 'excitement', 'curiosity', 'disapproval', 'approval'}\n"
     ]
    }
   ],
   "source": [
    "print(set(goemotions.columns) - set(tweet_emotions.columns))"
   ],
   "metadata": {
    "collapsed": false,
    "ExecuteTime": {
     "end_time": "2024-06-12T23:32:56.291265800Z",
     "start_time": "2024-06-12T23:32:56.204748700Z"
    }
   },
   "id": "95367bfae77d2e8c"
  },
  {
   "cell_type": "code",
   "execution_count": 128,
   "outputs": [
    {
     "name": "stdout",
     "output_type": "stream",
     "text": [
      "{'boredom', 'empty', 'happiness', 'enthusiasm', 'worry', 'fun', 'hate'}\n"
     ]
    }
   ],
   "source": [
    "print(set(tweet_emotions.columns) - set(goemotions.columns))"
   ],
   "metadata": {
    "collapsed": false,
    "ExecuteTime": {
     "end_time": "2024-06-12T23:32:56.292266500Z",
     "start_time": "2024-06-12T23:32:56.222748900Z"
    }
   },
   "id": "d974ee333cc9521"
  },
  {
   "cell_type": "code",
   "execution_count": 129,
   "outputs": [],
   "source": [
    "# Rename the sentiments in tweet_emotions that have different names from goemotion ones but the similar meanings\n",
    "tweet_emotions.rename(columns={'happiness':'joy', 'enthusiasm':'excitement', 'hate':'disgust', 'worry':'nervousness', 'fun':'amusement'}, inplace=True)\n",
    "\n",
    "# Add the emotions that are in goemotions but not in tweet_emotions as 0\n",
    "for emotion in set(goemotions.columns) - set(tweet_emotions.columns):\n",
    "    tweet_emotions[emotion] = 0\n",
    "    \n",
    "# Add the emotions that are in tweet_emotions but not in goemotions as 0\n",
    "for emotion in set(tweet_emotions.columns) - set(goemotions.columns):\n",
    "    goemotions[emotion] = 0"
   ],
   "metadata": {
    "collapsed": false,
    "ExecuteTime": {
     "end_time": "2024-06-12T23:32:56.292266500Z",
     "start_time": "2024-06-12T23:32:56.236748200Z"
    }
   },
   "id": "148707b5339ad457"
  },
  {
   "cell_type": "markdown",
   "source": [
    "## Merge Datasets"
   ],
   "metadata": {
    "collapsed": false
   },
   "id": "47e0c18d1f2194e6"
  },
  {
   "cell_type": "code",
   "execution_count": 130,
   "outputs": [],
   "source": [
    "# Merge the datasets\n",
    "data = pd.concat([tweet_emotions, goemotions], ignore_index=True)"
   ],
   "metadata": {
    "collapsed": false,
    "ExecuteTime": {
     "end_time": "2024-06-12T23:32:56.360270400Z",
     "start_time": "2024-06-12T23:32:56.252748Z"
    }
   },
   "id": "23da8ea0175d930b"
  },
  {
   "cell_type": "code",
   "execution_count": 131,
   "outputs": [
    {
     "data": {
      "text/plain": "                                                text  anger  boredom  empty  \\\n0  @tiffanylue i know  i was listenin to bad habi...      0        0      1   \n1  Layin n bed with a headache  ughhhh...waitin o...      0        0      0   \n2                Funeral ceremony...gloomy friday...      0        0      0   \n3               wants to hang out with friends SOON!      0        0      0   \n4  @dannycastillo We want to trade with someone w...      0        0      0   \n\n   excitement  amusement  joy  disgust  love  neutral  ...  disappointment  \\\n0           0          0    0        0     0        0  ...               0   \n1           0          0    0        0     0        0  ...               0   \n2           0          0    0        0     0        0  ...               0   \n3           1          0    0        0     0        0  ...               0   \n4           0          0    0        0     0        1  ...               0   \n\n   gratitude  grief  pride  curiosity  optimism  annoyance  approval  remorse  \\\n0          0      0      0          0         0          0         0        0   \n1          0      0      0          0         0          0         0        0   \n2          0      0      0          0         0          0         0        0   \n3          0      0      0          0         0          0         0        0   \n4          0      0      0          0         0          0         0        0   \n\n   admiration  \n0           0  \n1           0  \n2           0  \n3           0  \n4           0  \n\n[5 rows x 31 columns]",
      "text/html": "<div>\n<style scoped>\n    .dataframe tbody tr th:only-of-type {\n        vertical-align: middle;\n    }\n\n    .dataframe tbody tr th {\n        vertical-align: top;\n    }\n\n    .dataframe thead th {\n        text-align: right;\n    }\n</style>\n<table border=\"1\" class=\"dataframe\">\n  <thead>\n    <tr style=\"text-align: right;\">\n      <th></th>\n      <th>text</th>\n      <th>anger</th>\n      <th>boredom</th>\n      <th>empty</th>\n      <th>excitement</th>\n      <th>amusement</th>\n      <th>joy</th>\n      <th>disgust</th>\n      <th>love</th>\n      <th>neutral</th>\n      <th>...</th>\n      <th>disappointment</th>\n      <th>gratitude</th>\n      <th>grief</th>\n      <th>pride</th>\n      <th>curiosity</th>\n      <th>optimism</th>\n      <th>annoyance</th>\n      <th>approval</th>\n      <th>remorse</th>\n      <th>admiration</th>\n    </tr>\n  </thead>\n  <tbody>\n    <tr>\n      <th>0</th>\n      <td>@tiffanylue i know  i was listenin to bad habi...</td>\n      <td>0</td>\n      <td>0</td>\n      <td>1</td>\n      <td>0</td>\n      <td>0</td>\n      <td>0</td>\n      <td>0</td>\n      <td>0</td>\n      <td>0</td>\n      <td>...</td>\n      <td>0</td>\n      <td>0</td>\n      <td>0</td>\n      <td>0</td>\n      <td>0</td>\n      <td>0</td>\n      <td>0</td>\n      <td>0</td>\n      <td>0</td>\n      <td>0</td>\n    </tr>\n    <tr>\n      <th>1</th>\n      <td>Layin n bed with a headache  ughhhh...waitin o...</td>\n      <td>0</td>\n      <td>0</td>\n      <td>0</td>\n      <td>0</td>\n      <td>0</td>\n      <td>0</td>\n      <td>0</td>\n      <td>0</td>\n      <td>0</td>\n      <td>...</td>\n      <td>0</td>\n      <td>0</td>\n      <td>0</td>\n      <td>0</td>\n      <td>0</td>\n      <td>0</td>\n      <td>0</td>\n      <td>0</td>\n      <td>0</td>\n      <td>0</td>\n    </tr>\n    <tr>\n      <th>2</th>\n      <td>Funeral ceremony...gloomy friday...</td>\n      <td>0</td>\n      <td>0</td>\n      <td>0</td>\n      <td>0</td>\n      <td>0</td>\n      <td>0</td>\n      <td>0</td>\n      <td>0</td>\n      <td>0</td>\n      <td>...</td>\n      <td>0</td>\n      <td>0</td>\n      <td>0</td>\n      <td>0</td>\n      <td>0</td>\n      <td>0</td>\n      <td>0</td>\n      <td>0</td>\n      <td>0</td>\n      <td>0</td>\n    </tr>\n    <tr>\n      <th>3</th>\n      <td>wants to hang out with friends SOON!</td>\n      <td>0</td>\n      <td>0</td>\n      <td>0</td>\n      <td>1</td>\n      <td>0</td>\n      <td>0</td>\n      <td>0</td>\n      <td>0</td>\n      <td>0</td>\n      <td>...</td>\n      <td>0</td>\n      <td>0</td>\n      <td>0</td>\n      <td>0</td>\n      <td>0</td>\n      <td>0</td>\n      <td>0</td>\n      <td>0</td>\n      <td>0</td>\n      <td>0</td>\n    </tr>\n    <tr>\n      <th>4</th>\n      <td>@dannycastillo We want to trade with someone w...</td>\n      <td>0</td>\n      <td>0</td>\n      <td>0</td>\n      <td>0</td>\n      <td>0</td>\n      <td>0</td>\n      <td>0</td>\n      <td>0</td>\n      <td>1</td>\n      <td>...</td>\n      <td>0</td>\n      <td>0</td>\n      <td>0</td>\n      <td>0</td>\n      <td>0</td>\n      <td>0</td>\n      <td>0</td>\n      <td>0</td>\n      <td>0</td>\n      <td>0</td>\n    </tr>\n  </tbody>\n</table>\n<p>5 rows × 31 columns</p>\n</div>"
     },
     "execution_count": 131,
     "metadata": {},
     "output_type": "execute_result"
    }
   ],
   "source": [
    "# Look up to the merged dataset\n",
    "data.head(5)"
   ],
   "metadata": {
    "collapsed": false,
    "ExecuteTime": {
     "end_time": "2024-06-12T23:32:56.365271100Z",
     "start_time": "2024-06-12T23:32:56.281266300Z"
    }
   },
   "id": "650476995d67b639"
  },
  {
   "cell_type": "code",
   "execution_count": 132,
   "outputs": [
    {
     "data": {
      "text/plain": "Series([], dtype: int64)"
     },
     "execution_count": 132,
     "metadata": {},
     "output_type": "execute_result"
    }
   ],
   "source": [
    "# Check for nan values\n",
    "data.isnull().sum()[data.isnull().sum() > 0]"
   ],
   "metadata": {
    "collapsed": false,
    "ExecuteTime": {
     "end_time": "2024-06-12T23:32:56.422817200Z",
     "start_time": "2024-06-12T23:32:56.314266400Z"
    }
   },
   "id": "e7fede499a205310"
  },
  {
   "cell_type": "code",
   "execution_count": 134,
   "outputs": [
    {
     "data": {
      "text/plain": "(248943, 31)"
     },
     "execution_count": 134,
     "metadata": {},
     "output_type": "execute_result"
    }
   ],
   "source": [
    "data.shape"
   ],
   "metadata": {
    "collapsed": false,
    "ExecuteTime": {
     "end_time": "2024-06-12T23:33:16.827567200Z",
     "start_time": "2024-06-12T23:33:16.801567900Z"
    }
   },
   "id": "8ec614c3e89d0ea6"
  },
  {
   "cell_type": "markdown",
   "source": [
    "## Save the Merged Dataset"
   ],
   "metadata": {
    "collapsed": false
   },
   "id": "d353aae951085292"
  },
  {
   "cell_type": "code",
   "execution_count": 133,
   "outputs": [],
   "source": [
    "# Save the merged dataset\n",
    "data.to_csv('data/merged_data.csv', index=False)"
   ],
   "metadata": {
    "collapsed": false,
    "ExecuteTime": {
     "end_time": "2024-06-12T23:32:57.850789900Z",
     "start_time": "2024-06-12T23:32:56.376817400Z"
    }
   },
   "id": "8d7b2e7ff4692f49"
  }
 ],
 "metadata": {
  "kernelspec": {
   "display_name": "Python 3",
   "language": "python",
   "name": "python3"
  },
  "language_info": {
   "codemirror_mode": {
    "name": "ipython",
    "version": 2
   },
   "file_extension": ".py",
   "mimetype": "text/x-python",
   "name": "python",
   "nbconvert_exporter": "python",
   "pygments_lexer": "ipython2",
   "version": "2.7.6"
  }
 },
 "nbformat": 4,
 "nbformat_minor": 5
}
